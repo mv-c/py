{
 "cells": [
  {
   "cell_type": "code",
   "execution_count": 1,
   "id": "53808f0c",
   "metadata": {},
   "outputs": [
    {
     "name": "stdout",
     "output_type": "stream",
     "text": [
      "DatetimeIndex(['2019-01-01 00:00:00', '2019-01-01 00:01:00',\n",
      "               '2019-01-01 00:02:00', '2019-01-01 00:03:00',\n",
      "               '2019-01-01 00:04:00', '2019-01-01 00:05:00',\n",
      "               '2019-01-01 00:06:00', '2019-01-01 00:07:00',\n",
      "               '2019-01-01 00:08:00', '2019-01-01 00:09:00',\n",
      "               ...\n",
      "               '2019-01-07 23:51:00', '2019-01-07 23:52:00',\n",
      "               '2019-01-07 23:53:00', '2019-01-07 23:54:00',\n",
      "               '2019-01-07 23:55:00', '2019-01-07 23:56:00',\n",
      "               '2019-01-07 23:57:00', '2019-01-07 23:58:00',\n",
      "               '2019-01-07 23:59:00', '2019-01-08 00:00:00'],\n",
      "              dtype='datetime64[ns]', length=10081, freq='T')\n"
     ]
    }
   ],
   "source": [
    "# 1. To create a Time series:\n",
    "import pandas as pd\n",
    "from datetime import datetime\n",
    "import numpy as np\n",
    "range_date = pd.date_range(start ='1/1/2019', end ='1/08/2019',freq ='Min')\n",
    "print(range_date)"
   ]
  },
  {
   "cell_type": "code",
   "execution_count": 2,
   "id": "0447f1f6",
   "metadata": {},
   "outputs": [
    {
     "name": "stdout",
     "output_type": "stream",
     "text": [
      "                 date  data\n",
      "0 2019-01-01 00:00:00    30\n",
      "1 2019-01-01 00:01:00    85\n",
      "2 2019-01-01 00:02:00    55\n",
      "3 2019-01-01 00:03:00    37\n",
      "4 2019-01-01 00:04:00    91\n",
      "5 2019-01-01 00:05:00    21\n",
      "6 2019-01-01 00:06:00    71\n",
      "7 2019-01-01 00:07:00     8\n",
      "8 2019-01-01 00:08:00    41\n",
      "9 2019-01-01 00:09:00    39\n"
     ]
    }
   ],
   "source": [
    "# 2. Working of range_date function \n",
    "import pandas as pd\n",
    "from datetime import datetime\n",
    "import numpy as np\n",
    "range_date = pd.date_range(start ='1/1/2019', end ='1/08/2019',freq ='Min')\n",
    "df = pd.DataFrame(range_date, columns =['date'])\n",
    "df['data'] = np.random.randint(0, 100, size =(len(range_date)))\n",
    "print(df.head(10))"
   ]
  },
  {
   "cell_type": "code",
   "execution_count": 3,
   "id": "0de7cb55",
   "metadata": {},
   "outputs": [
    {
     "name": "stdout",
     "output_type": "stream",
     "text": [
      "                     data\n",
      "datetime                 \n",
      "2019-01-05 00:01:00    81\n",
      "2019-01-05 00:02:00    61\n",
      "2019-01-05 00:03:00    23\n",
      "2019-01-05 00:04:00    68\n",
      "2019-01-05 00:05:00    40\n",
      "2019-01-05 00:06:00    91\n",
      "2019-01-05 00:07:00    87\n",
      "2019-01-05 00:08:00    14\n",
      "2019-01-05 00:09:00    81\n",
      "2019-01-05 00:10:00    35\n"
     ]
    },
    {
     "name": "stderr",
     "output_type": "stream",
     "text": [
      "C:\\Users\\sachi\\AppData\\Local\\Temp\\ipykernel_30036\\1260306968.py:12: FutureWarning: Indexing a DataFrame with a datetimelike index using a single string to slice the rows, like `frame[string]`, is deprecated and will be removed in a future version. Use `frame.loc[string]` instead.\n",
      "  print(df['2019-01-05'][1:11])\n"
     ]
    }
   ],
   "source": [
    "# 3. Specifying start and end date range:\n",
    "import pandas as pd\n",
    "from datetime import datetime\n",
    "import numpy as np\n",
    "range_data = pd.date_range(start ='1/1/2019', end ='1/08/2019',freq\n",
    "='Min')\n",
    "df = pd.DataFrame(range_data, columns =['date'])\n",
    "df['data'] = np.random.randint(0, 100, size =(len(range_data)))\n",
    "df['datetime'] = pd.to_datetime(df['date'])\n",
    "df = df.set_index('datetime')\n",
    "df.drop(['date'], axis = 1, inplace = True)\n",
    "print(df['2019-01-05'][1:11])\n"
   ]
  },
  {
   "cell_type": "code",
   "execution_count": null,
   "id": "d461e0ac",
   "metadata": {},
   "outputs": [],
   "source": []
  }
 ],
 "metadata": {
  "kernelspec": {
   "display_name": "Python 3 (ipykernel)",
   "language": "python",
   "name": "python3"
  },
  "language_info": {
   "codemirror_mode": {
    "name": "ipython",
    "version": 3
   },
   "file_extension": ".py",
   "mimetype": "text/x-python",
   "name": "python",
   "nbconvert_exporter": "python",
   "pygments_lexer": "ipython3",
   "version": "3.9.13"
  }
 },
 "nbformat": 4,
 "nbformat_minor": 5
}
