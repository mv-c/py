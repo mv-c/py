{
 "cells": [
  {
   "cell_type": "code",
   "execution_count": 5,
   "id": "439bd9c2",
   "metadata": {},
   "outputs": [
    {
     "name": "stdout",
     "output_type": "stream",
     "text": [
      "     ID      NAME   AGE     SEX   MARKS1   MARKS2       PLACE\n",
      "0    10    sachin    24    male       90       95  Shikaripur\n",
      "1    12    Ganesh    26    male       60       85      Mysore\n",
      "2    13    herish    23  female       90       25   Bangalore\n",
      "3    24    Suresh    22    male       70       15        Pune\n",
      "4    25      hmyy    21  female       90       55     Shimoga\n",
      "5   101      John    20    male       85       90    New York\n",
      "6   102  Samantha    19  female       78       85      London\n",
      "7   103     David    21    male       90       80      Sydney\n",
      "8   104     Emily    22  female       92       95       Paris\n",
      "9   105   Michael    20    male       80       88       Tokyo\n",
      "10  106     Alice    21  female       86       90   Singapore\n",
      "11  107   William    19    male       79       83     Beijing\n",
      "12  108    Olivia    20  female       91       95      Berlin\n",
      "13  109   Matthew    22    male       88       89        Rome\n",
      "14  110  Isabella    19  female       82       84      Mumbai\n"
     ]
    }
   ],
   "source": [
    "# 1. Importing Dataset:\n",
    "import pandas as pd\n",
    "df = pd.read_csv('csv.csv')\n",
    "print(df.to_string())"
   ]
  },
  {
   "cell_type": "code",
   "execution_count": 7,
   "id": "ce964d4a",
   "metadata": {},
   "outputs": [
    {
     "name": "stdout",
     "output_type": "stream",
     "text": [
      "First 5 rows:\n",
      "   ID    NAME   AGE     SEX   MARKS1   MARKS2       PLACE\n",
      "0  10  sachin    24    male       90       95  Shikaripur\n",
      "1  12  Ganesh    26    male       60       85      Mysore\n",
      "2  13  herish    23  female       90       25   Bangalore\n",
      "3  24  Suresh    22    male       70       15        Pune\n",
      "4  25    hmyy    21  female       90       55     Shimoga\n",
      "Last 5 rows:\n",
      "     ID      NAME   AGE     SEX   MARKS1   MARKS2      PLACE\n",
      "10  106     Alice    21  female       86       90  Singapore\n",
      "11  107   William    19    male       79       83    Beijing\n",
      "12  108    Olivia    20  female       91       95     Berlin\n",
      "13  109   Matthew    22    male       88       89       Rome\n",
      "14  110  Isabella    19  female       82       84     Mumbai\n"
     ]
    }
   ],
   "source": [
    "# 2. Cleaning the Data\n",
    "#display first and last 5 rows\n",
    "import pandas as pd\n",
    "\n",
    "df = pd.read_csv('csv.csv')\n",
    "print(\"First 5 rows:\")\n",
    "print(df.head())\n",
    "\n",
    "print(\"Last 5 rows:\")\n",
    "print(df.tail())\n",
    "\n"
   ]
  },
  {
   "cell_type": "code",
   "execution_count": 8,
   "id": "fd06c922",
   "metadata": {},
   "outputs": [
    {
     "name": "stdout",
     "output_type": "stream",
     "text": [
      "60\n"
     ]
    }
   ],
   "source": [
    "#display max rows\n",
    "import pandas as pd\n",
    "print(pd.options.display.max_rows)\n"
   ]
  },
  {
   "cell_type": "code",
   "execution_count": 13,
   "id": "22f167d1",
   "metadata": {},
   "outputs": [
    {
     "name": "stdout",
     "output_type": "stream",
     "text": [
      "     ID      NAME   AGE     SEX   MARKS1   MARKS2       PLACE\n",
      "0    10    sachin    24    male       90       95  Shikaripur\n",
      "1    12    Ganesh    26    male       60       85      Mysore\n",
      "2    13    herish    23  female       90       25   Bangalore\n",
      "3    24    Suresh    22    male       70       15        Pune\n",
      "4    25      hmyy    21  female       90       55     Shimoga\n",
      "..  ...       ...   ...     ...      ...      ...         ...\n",
      "10  106     Alice    21  female       86       90   Singapore\n",
      "11  107   William    19    male       79       83     Beijing\n",
      "12  108    Olivia    20  female       91       95      Berlin\n",
      "13  109   Matthew    22    male       88       89        Rome\n",
      "14  110  Isabella    19  female       82       84      Mumbai\n",
      "\n",
      "[15 rows x 7 columns]\n"
     ]
    }
   ],
   "source": [
    "import pandas as pd\n",
    "pd.options.display.max_rows=10\n",
    "df = pd.read_csv(\"csv.csv\")\n",
    "print(df)"
   ]
  },
  {
   "cell_type": "code",
   "execution_count": 14,
   "id": "b1aef1b6",
   "metadata": {},
   "outputs": [
    {
     "name": "stdout",
     "output_type": "stream",
     "text": [
      "<class 'pandas.core.frame.DataFrame'>\n",
      "RangeIndex: 15 entries, 0 to 14\n",
      "Data columns (total 7 columns):\n",
      " #   Column   Non-Null Count  Dtype \n",
      "---  ------   --------------  ----- \n",
      " 0   ID       15 non-null     int64 \n",
      " 1    NAME    15 non-null     object\n",
      " 2    AGE     15 non-null     int64 \n",
      " 3    SEX     15 non-null     object\n",
      " 4    MARKS1  15 non-null     int64 \n",
      " 5    MARKS2  15 non-null     int64 \n",
      " 6    PLACE   15 non-null     object\n",
      "dtypes: int64(4), object(3)\n",
      "memory usage: 968.0+ bytes\n",
      "None\n"
     ]
    }
   ],
   "source": [
    "print(df.info())"
   ]
  },
  {
   "cell_type": "code",
   "execution_count": 16,
   "id": "e3689c67",
   "metadata": {},
   "outputs": [
    {
     "name": "stdout",
     "output_type": "stream",
     "text": [
      "     ID      NAME   AGE     SEX   MARKS1   MARKS2       PLACE\n",
      "0    10    sachin    24    male       90     95.0  Shikaripur\n",
      "1    12    Ganesh    26    male       60     85.0      Mysore\n",
      "2    13    herish    23  female       90     25.0   Bangalore\n",
      "3    24    Suresh    22    male       70     15.0        Pune\n",
      "4    25      hmyy    21  female       90     55.0     Shimoga\n",
      "5   101      John    20    male       85     90.0    New York\n",
      "6   102  Samantha    19  female       78     85.0      London\n",
      "7   103     David    21    male       90     80.0      Sydney\n",
      "8   104     Emily    22  female       92     95.0       Paris\n",
      "9   105   Michael    20    male       80     88.0       Tokyo\n",
      "10  106     Alice    21  female       86     90.0   Singapore\n",
      "12  108    Olivia    20  female       91     95.0      Berlin\n",
      "13  109   Matthew    22    male       88     89.0        Rome\n"
     ]
    }
   ],
   "source": [
    "import pandas as pd\n",
    "df = pd.read_csv(\"csv.csv\")\n",
    "newdf = df.dropna()\n",
    "print(newdf.to_string())\n",
    "#it will remove dup values from the csv file"
   ]
  },
  {
   "cell_type": "code",
   "execution_count": 31,
   "id": "434b85c8",
   "metadata": {},
   "outputs": [
    {
     "name": "stdout",
     "output_type": "stream",
     "text": [
      "           name  year  salary\n",
      "Acme      Alice  2017   40000\n",
      "Acme        Bob  2017   24000\n",
      "Bilbao  Charles  2017   31000\n",
      "Bilbao    David  2017   20000\n",
      "Bilbao     Eric  2017   30000\n"
     ]
    }
   ],
   "source": [
    "# 3. Data frame manipulation using Numpy\n",
    "import pandas as pd\n",
    "import numpy as np\n",
    "data = {'name': ['Alice', 'Bob', 'Charles', 'David', 'Eric'],\n",
    "        'year': [2017, 2017, 2017, 2017, 2017],\n",
    "        'salary': [40000, 24000, 31000, 20000, 30000]}\n",
    "data1 = pd.DataFrame({'Name': ['Billy', 'Brian', 'Bran', 'Bryce', 'Betty'],\n",
    "                      'subject_id':['sub2','sub4','sub3','sub6','sub5'],\n",
    "                      'Marks_scored':[89,80,79,97,88]})\n",
    "df = pd.DataFrame(data, index = ['Acme', 'Acme', 'Bilbao', 'Bilbao', 'Bilbao'])\n",
    "print(df)"
   ]
  },
  {
   "cell_type": "code",
   "execution_count": 33,
   "id": "b4ba22a5",
   "metadata": {},
   "outputs": [
    {
     "name": "stdout",
     "output_type": "stream",
     "text": [
      "           name  year  salary\n",
      "Acme      Alice  2017   40000\n",
      "Bilbao  Charles  2017   31000\n"
     ]
    }
   ],
   "source": [
    "# Filtering option:\n",
    "df_filtered = df.query('salary>30000')\n",
    "print(df_filtered)\n"
   ]
  },
  {
   "cell_type": "code",
   "execution_count": 34,
   "id": "6a6579ad",
   "metadata": {},
   "outputs": [
    {
     "name": "stdout",
     "output_type": "stream",
     "text": [
      "           name  year  salary\n",
      "Acme      Alice  2017   40000\n",
      "Bilbao  Charles  2017   31000\n",
      "Bilbao     Eric  2017   30000\n"
     ]
    }
   ],
   "source": [
    "df_filtered = df[(df.salary >= 30000) & (df.year == 2017)]\n",
    "print(df_filtered)\n"
   ]
  },
  {
   "cell_type": "code",
   "execution_count": null,
   "id": "1ea3e070",
   "metadata": {},
   "outputs": [],
   "source": []
  }
 ],
 "metadata": {
  "kernelspec": {
   "display_name": "Python 3 (ipykernel)",
   "language": "python",
   "name": "python3"
  },
  "language_info": {
   "codemirror_mode": {
    "name": "ipython",
    "version": 3
   },
   "file_extension": ".py",
   "mimetype": "text/x-python",
   "name": "python",
   "nbconvert_exporter": "python",
   "pygments_lexer": "ipython3",
   "version": "3.9.13"
  }
 },
 "nbformat": 4,
 "nbformat_minor": 5
}
