{
 "cells": [
  {
   "cell_type": "code",
   "execution_count": 4,
   "id": "079a47a1",
   "metadata": {},
   "outputs": [
    {
     "name": "stdout",
     "output_type": "stream",
     "text": [
      "hello mca\n",
      "hello mca\n",
      "hello\n"
     ]
    }
   ],
   "source": [
    "#Program to open file in read mode:\n",
    "# a file named \"geek\", will be opened with the reading mode.\n",
    "file = open('file.txt', 'r')\n",
    "# This will print every line one by one in the file\n",
    "for each in file:\n",
    "    print (each)\n",
    "# Python code to illustrate read() mode\n",
    "file = open(\"file.txt\", \"r\")\n",
    "print (file.read())\n",
    "# Python code to illustrate read() mode character wise\n",
    "file = open(\"file.txt\", \"r\")\n",
    "print (file.read(5))\n"
   ]
  },
  {
   "cell_type": "code",
   "execution_count": 5,
   "id": "7a8caa02",
   "metadata": {},
   "outputs": [],
   "source": [
    "# 2. To open a file in write mode:\n",
    "# Python code to create a file\n",
    "file = open('file.txt','w')\n",
    "file.write(\"This is the write command\")\n",
    "file.write(\"It allows us to write in a particular file\")\n",
    "file.close()\n"
   ]
  },
  {
   "cell_type": "code",
   "execution_count": 8,
   "id": "8823e1e6",
   "metadata": {},
   "outputs": [],
   "source": [
    "# 3. Append function:\n",
    "# Python code to illustrate append() mode\n",
    "file = open('geek.txt','a')\n",
    "file.write(\"This will add this line\")\n",
    "file.close()\n"
   ]
  },
  {
   "cell_type": "code",
   "execution_count": 13,
   "id": "8b2e2b14",
   "metadata": {},
   "outputs": [
    {
     "name": "stdout",
     "output_type": "stream",
     "text": [
      "['hello', 'mca']\n"
     ]
    }
   ],
   "source": [
    "# 4 Split function:\n",
    "# Python code to illustrate split() function\n",
    "with open(\"file.txt\", \"r\") as file:\n",
    "    data = file.readlines()\n",
    "    for line in data:\n",
    "        word = line.split()\n",
    "        print (word)\n"
   ]
  },
  {
   "cell_type": "code",
   "execution_count": 18,
   "id": "e538639c",
   "metadata": {},
   "outputs": [],
   "source": [
    "# 5. Closing of file:\n",
    "\n",
    "file = open (\"abc.txt\",\"a\") \n",
    "file.write (\"append the text\") \n",
    "file.close()"
   ]
  },
  {
   "cell_type": "code",
   "execution_count": 19,
   "id": "c90f6d9f",
   "metadata": {},
   "outputs": [],
   "source": []
  },
  {
   "cell_type": "code",
   "execution_count": null,
   "id": "fd9ea4dd",
   "metadata": {},
   "outputs": [],
   "source": []
  }
 ],
 "metadata": {
  "kernelspec": {
   "display_name": "Python 3 (ipykernel)",
   "language": "python",
   "name": "python3"
  },
  "language_info": {
   "codemirror_mode": {
    "name": "ipython",
    "version": 3
   },
   "file_extension": ".py",
   "mimetype": "text/x-python",
   "name": "python",
   "nbconvert_exporter": "python",
   "pygments_lexer": "ipython3",
   "version": "3.9.13"
  }
 },
 "nbformat": 4,
 "nbformat_minor": 5
}
