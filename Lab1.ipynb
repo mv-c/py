{
 "cells": [
  {
   "cell_type": "code",
   "execution_count": 7,
   "id": "1a30bba8",
   "metadata": {},
   "outputs": [
    {
     "name": "stdout",
     "output_type": "stream",
     "text": [
      "Enter the list of numbers: 5 6 4 9 1 2\n",
      "The number to search for: 4\n",
      "4 was found at index 2.\n"
     ]
    }
   ],
   "source": [
    "def linear_search(alist, key):\n",
    "    for i in range(len(alist)):\n",
    "         if alist[i] == key:\n",
    "             return i\n",
    "    return -1 \n",
    "alist = input('Enter the list of numbers: ')\n",
    "alist = alist.split()\n",
    "alist = [int(x) for x in alist]\n",
    "key = int(input('The number to search for: '))\n",
    "index = linear_search(alist, key)\n",
    "if index < 0:\n",
    "    print('{} was not found.'.format(key))\n",
    "else:\n",
    "    print('{} was found at index {}.'.format(key, index))\n"
   ]
  },
  {
   "cell_type": "code",
   "execution_count": 8,
   "id": "796bc9cf",
   "metadata": {},
   "outputs": [
    {
     "name": "stdout",
     "output_type": "stream",
     "text": [
      "Enter the sorted list of numbers: 4 5 6 7 8\n",
      "The number to search for: 6\n",
      "6 was found at index 2.\n"
     ]
    }
   ],
   "source": [
    "def binary_search(alist, key):\n",
    "    \"\"\"Search key in alist[start... end - 1].\"\"\"\n",
    "    start = 0\n",
    "    end = len(alist)\n",
    "    while start < end:\n",
    "        mid = (start + end)//2\n",
    "        if alist[mid] > key:\n",
    "            end = mid\n",
    "        elif alist[mid] < key:\n",
    "            start = mid + 1\n",
    "        else:\n",
    "            return mid\n",
    "    return -1\n",
    "\n",
    "alist = input('Enter the sorted list of numbers: ')\n",
    "alist = alist.split()\n",
    "alist = [int(x) for x in alist]\n",
    "key = int(input('The number to search for: '))\n",
    "index = binary_search(alist, key)\n",
    "\n",
    "if index < 0:\n",
    "    print('{} was not found.'.format(key))\n",
    "else:\n",
    "    print('{} was found at index {}.'.format(key, index))\n"
   ]
  },
  {
   "cell_type": "code",
   "execution_count": null,
   "id": "d4767634",
   "metadata": {},
   "outputs": [],
   "source": []
  }
 ],
 "metadata": {
  "kernelspec": {
   "display_name": "Python 3 (ipykernel)",
   "language": "python",
   "name": "python3"
  },
  "language_info": {
   "codemirror_mode": {
    "name": "ipython",
    "version": 3
   },
   "file_extension": ".py",
   "mimetype": "text/x-python",
   "name": "python",
   "nbconvert_exporter": "python",
   "pygments_lexer": "ipython3",
   "version": "3.9.13"
  }
 },
 "nbformat": 4,
 "nbformat_minor": 5
}
